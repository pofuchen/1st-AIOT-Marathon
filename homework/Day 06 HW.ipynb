{
 "cells": [
  {
   "cell_type": "markdown",
   "metadata": {},
   "source": [
    "作業1：至 w3schools 網站（https://www.w3schools.com/sql/trysql.asp?filename=trysql_select_all），練習 SQL 的查詢指令 Select，使用 where 條件篩選，數字條件與字串條件篩選指令。"
   ]
  },
  {
   "cell_type": "markdown",
   "metadata": {},
   "source": [
    "![HW6-1](https://github.com/pofuchen/1st-AIOT-Marathon/blob/master/homework/img/HW6-1.png?raw=true)"
   ]
  },
  {
   "cell_type": "markdown",
   "metadata": {},
   "source": [
    "![HW6-2](https://github.com/pofuchen/1st-AIOT-Marathon/blob/master/homework/img/HW6-2.png?raw=true)"
   ]
  },
  {
   "cell_type": "markdown",
   "metadata": {},
   "source": [
    "作業2：至 JSONLint (https://jsonlint.com/)，寫一個 JSON 文件，物件內容為: {\"aiotid\": 1,\"description\": \"temperature\", \"value\":23.5}，點選 Validate JSON，檢查正確性。"
   ]
  },
  {
   "cell_type": "markdown",
   "metadata": {},
   "source": [
    "![HW6-3](https://github.com/pofuchen/1st-AIOT-Marathon/blob/master/homework/img/HW6-3.png?raw=true)"
   ]
  },
  {
   "cell_type": "code",
   "execution_count": null,
   "metadata": {},
   "outputs": [],
   "source": []
  }
 ],
 "metadata": {
  "kernelspec": {
   "display_name": "Python 3",
   "language": "python",
   "name": "python3"
  },
  "language_info": {
   "codemirror_mode": {
    "name": "ipython",
    "version": 3
   },
   "file_extension": ".py",
   "mimetype": "text/x-python",
   "name": "python",
   "nbconvert_exporter": "python",
   "pygments_lexer": "ipython3",
   "version": "3.7.4"
  }
 },
 "nbformat": 4,
 "nbformat_minor": 2
}
