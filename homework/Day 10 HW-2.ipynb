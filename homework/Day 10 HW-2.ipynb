{
 "cells": [
  {
   "cell_type": "markdown",
   "metadata": {
    "id": "ZStZSNsSJCgZ"
   },
   "source": [
    "# Day 10 - Mongo DB\n",
    "\n",
    "在 docker 安裝 mongodb\n",
    "\n",
    "$sudo docker pull mongo:latest\n",
    "\n",
    "$sudo docker image\n",
    "\n",
    "使用以下命令來運行 mongo 容器：\n",
    "$docker run -itd --name mongo -p 27017:27017 mongo --auth\n",
    "\n",
    "參數說明：\n",
    "(1)-p 27017:27017 ：映射容器服務的 27017 埠到宿主機的 27017 埠。外部可以直接通過主機 ip:27017 訪問到 mongo 的服務。\n",
    "(2)--auth：需要密碼才能訪問容器服務。\n",
    "#確認執行的Docker 程式\n",
    "\n",
    "$docker ps\n",
    "\n",
    "$ docker exec -it mongo mongo admin \n",
    "# 創建一個名為 admin，密碼為 123456 的用戶。 \n",
    "db.createUser({ user:‘admin’,pwd:‘123456‘, roles:[ { role:'userAdminAnyDatabase', db: 'admin’},\n",
    "\"readWriteAnyDatabase\"]}); \n",
    "# 嘗試使用上面創建的使用者資訊進行連接。\n",
    " > db.auth('admin', '123456') \n",
    "\n",
    "輸入，就可以進入容器內 \n",
    "$ docker exec -it mongo4 bash\n",
    "能用 mongo 指令，連入資料庫 \n",
    "#更新源 \n",
    "$apt-get update \n",
    "#安裝編輯器 \n",
    "$vim apt-get install vim \n",
    "#修改 mongo 設定檔 \n",
    "$vim /etc/mongod.conf.orig\n"
   ]
  },
  {
   "cell_type": "markdown",
   "metadata": {
    "id": "yDTaPwHPJCgZ"
   },
   "source": [
    "# 進入 admin 的資料庫 \n",
    "use admin \n",
    "\n",
    "# 創建管理員用戶 \n",
    "\n",
    "db.createUser( { \n",
    "user: \"admin\", \n",
    "pwd: \"123456\", \n",
    "roles: [ { role: \"userAdminAnyDatabase\", db: \"admin\" } ] \n",
    "} ) \n",
    "\n",
    "#創建有可讀寫許可權的用戶. 對於一個特定的資料庫, 比如'demo’ \n",
    "db.createUser({ \n",
    "user: 'test’, \n",
    "pwd: '123456’, \n",
    "roles: [{role: \"read\", db: \"demo\"}] \n",
    "})\n",
    "\n"
   ]
  },
  {
   "cell_type": "code",
   "execution_count": null,
   "metadata": {},
   "outputs": [],
   "source": [
    "# Enter mongo shell\n",
    "$ docker exec -it mongo mongo\n",
    "\n",
    "> use admin\n",
    "> db.createUser(\n",
    "       {\n",
    "        user: 'admin',\n",
    "        pwd: 'your-password',\n",
    "        roles: [ { role: 'root', db: 'admin' } ]\n",
    "      }\n",
    "    )"
   ]
  },
  {
   "attachments": {},
   "cell_type": "markdown",
   "metadata": {
    "id": "WKU3W04LJCgZ"
   },
   "source": [
    "### ![image.png](HW10.jpg)"
   ]
  },
  {
   "attachments": {},
   "cell_type": "markdown",
   "metadata": {},
   "source": [
    "### ![image.png](HW10-2.jpg)"
   ]
  },
  {
   "cell_type": "code",
   "execution_count": null,
   "metadata": {},
   "outputs": [],
   "source": [
    "# Enter bash\n",
    "$ docker exec -it mongo bash\n",
    "\n",
    "# Open the connection\n",
    "$ mongo --port 27017 -u \"user-name\" -p \"password\" --authenticationDatabase \"admin\" "
   ]
  },
  {
   "attachments": {},
   "cell_type": "markdown",
   "metadata": {},
   "source": [
    "### ![image.png](HW10-4.jpg)"
   ]
  },
  {
   "attachments": {},
   "cell_type": "markdown",
   "metadata": {},
   "source": [
    "##### ![image.png](HW10-5.jpg)"
   ]
  },
  {
   "attachments": {},
   "cell_type": "markdown",
   "metadata": {},
   "source": [
    "##### ![image.png](HW10-6.jpg)"
   ]
  },
  {
   "cell_type": "code",
   "execution_count": null,
   "metadata": {},
   "outputs": [],
   "source": []
  }
 ],
 "metadata": {
  "colab": {
   "collapsed_sections": [],
   "name": "Day10_markdown .ipynb",
   "provenance": []
  },
  "kernelspec": {
   "display_name": "Python 3",
   "language": "python",
   "name": "python3"
  },
  "language_info": {
   "codemirror_mode": {
    "name": "ipython",
    "version": 3
   },
   "file_extension": ".py",
   "mimetype": "text/x-python",
   "name": "python",
   "nbconvert_exporter": "python",
   "pygments_lexer": "ipython3",
   "version": "3.7.4"
  }
 },
 "nbformat": 4,
 "nbformat_minor": 1
}
