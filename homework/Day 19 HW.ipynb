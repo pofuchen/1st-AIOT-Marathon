{
 "cells": [
  {
   "cell_type": "markdown",
   "metadata": {},
   "source": [
    "### 利用GPIO 控制風扇\n",
    "\n",
    "*選擇 GPIO 做控制\n",
    "\n",
    "*設定供電與接地管腳 define"
   ]
  },
  {
   "cell_type": "code",
   "execution_count": null,
   "metadata": {},
   "outputs": [],
   "source": [
    "## 放在Pi 的程式碼\n",
    "from flask import Flask\n",
    "app = Flask(_name_)#建立一個名為app的Flask物件\n",
    "\n",
    "@app.route(\"/\")#當有人訪問網頁伺服器的根目錄是,執行下面的程式碼\n",
    "\n",
    "def hello(): return \"Hello World!\"#向客户端傳送\"Hello WOrld!\"字串\n",
    "\n",
    "if __name__ == \"__main__\":#判斷是否這個指令碼是從命令列直接執行\n",
    "    app.run(host='0.0.0.0', port=8080, debug=True, threaded=True) #在瀏覽器輸入樹莓派ip,即可"
   ]
  },
  {
   "cell_type": "code",
   "execution_count": null,
   "metadata": {},
   "outputs": [],
   "source": [
    "from flask import Flask, render_template,request\n",
    "@app.route('f/open', methods = ['POST','GET'])\n",
    "def fopen():\n",
    "    if request methods == 'GET':\n",
    "        return render_template('index.html')\n",
    "    else:\n",
    "        single.flushOutput()\n",
    "        single.writh('1')\n",
    "        return \"Open OK\"\n",
    "if __name__ == \"__main__\":#判斷是否這個指令碼是從命令列直接執行\n",
    "    app.run()"
   ]
  },
  {
   "cell_type": "code",
   "execution_count": null,
   "metadata": {},
   "outputs": [],
   "source": [
    "#!usr/bin/env python\n",
    "# -*- coding: utf-8 -*-\n",
    "\n",
    "\n",
    "import RPi.GPIO\n",
    "import time\n",
    "from flask import Flask\n",
    "\n",
    "\n",
    "RPi.GPIO.setmode(RPi.GPIO.BCM)\n",
    "RPi.GPIO.setup(2, RPi.GPIO.OUT)\n",
    "\n",
    "app = Flask(__name__)\n",
    "\n",
    "@app.route('/')\n",
    "def hello_gaio():\n",
    "    return 'Hello GPIO!'\n",
    "\n",
    "@app.route('/start')\n",
    "def start():\n",
    "        RPi.GPIO .setmode(RPi.GPIO.BCM)\n",
    "        RPi.GPIO.setup(2,RPi.GPIO.OUT)\n",
    "        while(True):\n",
    "                RPi.GPIO.output(2,False)\n",
    "                time.sleep(5)\n",
    "                RPi.GPIO.output( 2,True)\n",
    "                time.sleep(5)\n",
    "\n",
    "RPi.GPIO.cleanup()\n",
    "\n",
    "if __name__ == '__main__':\n",
    "     app.run(host='0.0.0.0', port=8080, debug=True, threaded=True) #在瀏覽器輸入樹莓派ip,即可"
   ]
  }
 ],
 "metadata": {
  "kernelspec": {
   "display_name": "Python 3",
   "language": "python",
   "name": "python3"
  },
  "language_info": {
   "codemirror_mode": {
    "name": "ipython",
    "version": 3
   },
   "file_extension": ".py",
   "mimetype": "text/x-python",
   "name": "python",
   "nbconvert_exporter": "python",
   "pygments_lexer": "ipython3",
   "version": "3.7.4"
  }
 },
 "nbformat": 4,
 "nbformat_minor": 2
}
