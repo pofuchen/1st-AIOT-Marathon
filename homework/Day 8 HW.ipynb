{
 "cells": [
  {
   "cell_type": "markdown",
   "metadata": {},
   "source": [
    "# 作業： 使用 Python 操作 MongoDB"
   ]
  },
  {
   "cell_type": "markdown",
   "metadata": {},
   "source": [
    "# [作業目標]\n",
    "* 能夠使用 Python 對 MongoDB 的資料進行增刪改查操作。\n",
    "* 使用 Robo 3T 工具查看資料。"
   ]
  },
  {
   "cell_type": "markdown",
   "metadata": {},
   "source": [
    "# [作業重點]\n",
    "* 執行程式前，MongoDB Server 記得要先開啟。\n",
    "* 若 DB、Collection 原本不存在，則直到有第一筆資料 insert 進去，才會真的建立 DB 及 Collection"
   ]
  },
  {
   "cell_type": "markdown",
   "metadata": {},
   "source": [
    "# 作業1\n",
    "* 建立 DB 及 Collection (名稱自訂)，使用 Python 取得連線。"
   ]
  },
  {
   "cell_type": "markdown",
   "metadata": {},
   "source": [
    "# 作業2\n",
    "* 使用 Python 操作 Mongo 中的資料。"
   ]
  },
  {
   "cell_type": "code",
   "execution_count": 22,
   "metadata": {},
   "outputs": [],
   "source": [
    "from pymongo import MongoClient\n",
    "client = MongoClient(host = '127.0.0.1', port = 27017)\n",
    "db = client['Homework']\n",
    "collection = db['number']"
   ]
  },
  {
   "cell_type": "code",
   "execution_count": 23,
   "metadata": {},
   "outputs": [],
   "source": [
    "mydata = [{'name':'Kevin','phone':'0912345678','email':'test@abc.com'},\n",
    "         {'name':'Michael','phone':'0987654321','email':'test2@abc.com'},\n",
    "         {'name':'Johnson','phoen':'0945612378','email':'test3@abc.com'}]"
   ]
  },
  {
   "cell_type": "code",
   "execution_count": 24,
   "metadata": {},
   "outputs": [],
   "source": [
    "result = collection.insert_many(mydata)"
   ]
  },
  {
   "cell_type": "code",
   "execution_count": 25,
   "metadata": {},
   "outputs": [
    {
     "data": {
      "text/plain": [
       "[ObjectId('5fdf84c3ee1e11fc2d1cd812'),\n",
       " ObjectId('5fdf84c3ee1e11fc2d1cd813'),\n",
       " ObjectId('5fdf84c3ee1e11fc2d1cd814')]"
      ]
     },
     "execution_count": 25,
     "metadata": {},
     "output_type": "execute_result"
    }
   ],
   "source": [
    "result.inserted_ids"
   ]
  },
  {
   "cell_type": "code",
   "execution_count": 26,
   "metadata": {},
   "outputs": [
    {
     "name": "stdout",
     "output_type": "stream",
     "text": [
      "{'_id': ObjectId('5fdf8163ee1e11fc2d1cd80b'), 'name': 'Kevin', 'phone': '0912345678', 'email': 'test@abc.com'}\n",
      "{'_id': ObjectId('5fdf8163ee1e11fc2d1cd80d'), 'name': 'Johnson', 'phoen': '0945612378', 'email': 'test3@abc.com'}\n",
      "{'_id': ObjectId('5fdf84c3ee1e11fc2d1cd812'), 'name': 'Kevin', 'phone': '0912345678', 'email': 'test@abc.com'}\n",
      "{'_id': ObjectId('5fdf84c3ee1e11fc2d1cd813'), 'name': 'Michael', 'phone': '0987654321', 'email': 'test2@abc.com'}\n",
      "{'_id': ObjectId('5fdf84c3ee1e11fc2d1cd814'), 'name': 'Johnson', 'phoen': '0945612378', 'email': 'test3@abc.com'}\n"
     ]
    }
   ],
   "source": [
    "result = collection.find()\n",
    "for x in result:\n",
    "    print(x)"
   ]
  },
  {
   "cell_type": "code",
   "execution_count": 27,
   "metadata": {},
   "outputs": [
    {
     "data": {
      "text/plain": [
       "<pymongo.results.UpdateResult at 0x1fe23483c88>"
      ]
     },
     "execution_count": 27,
     "metadata": {},
     "output_type": "execute_result"
    }
   ],
   "source": [
    "filter_ = {'name':'Kevin'}\n",
    "update_ = {\"$set\":{'name':'Green'}}\n",
    "collection.update_many(filter_,update_)"
   ]
  },
  {
   "cell_type": "code",
   "execution_count": 28,
   "metadata": {},
   "outputs": [
    {
     "name": "stdout",
     "output_type": "stream",
     "text": [
      "{'_id': ObjectId('5fdf8163ee1e11fc2d1cd80b'), 'name': 'Green', 'phone': '0912345678', 'email': 'test@abc.com'}\n",
      "{'_id': ObjectId('5fdf8163ee1e11fc2d1cd80d'), 'name': 'Johnson', 'phoen': '0945612378', 'email': 'test3@abc.com'}\n",
      "{'_id': ObjectId('5fdf84c3ee1e11fc2d1cd812'), 'name': 'Green', 'phone': '0912345678', 'email': 'test@abc.com'}\n",
      "{'_id': ObjectId('5fdf84c3ee1e11fc2d1cd813'), 'name': 'Michael', 'phone': '0987654321', 'email': 'test2@abc.com'}\n",
      "{'_id': ObjectId('5fdf84c3ee1e11fc2d1cd814'), 'name': 'Johnson', 'phoen': '0945612378', 'email': 'test3@abc.com'}\n"
     ]
    }
   ],
   "source": [
    "result = collection.find()\n",
    "for x in result:\n",
    "    print(x)"
   ]
  },
  {
   "cell_type": "code",
   "execution_count": null,
   "metadata": {},
   "outputs": [],
   "source": []
  }
 ],
 "metadata": {
  "kernelspec": {
   "display_name": "Python 3",
   "language": "python",
   "name": "python3"
  },
  "language_info": {
   "codemirror_mode": {
    "name": "ipython",
    "version": 3
   },
   "file_extension": ".py",
   "mimetype": "text/x-python",
   "name": "python",
   "nbconvert_exporter": "python",
   "pygments_lexer": "ipython3",
   "version": "3.7.4"
  }
 },
 "nbformat": 4,
 "nbformat_minor": 4
}
