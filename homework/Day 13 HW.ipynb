{
 "cells": [
  {
   "cell_type": "markdown",
   "metadata": {},
   "source": [
    "## 作業1：實際練習 /sys/class/gpio 啟動 gpio，設定 gpio 接腳的狀態，並且卸載所啟動的 gpio。同時觀察卸載之後的 gpio 接腳，繼續送設定狀態的資料，將會發生什麼樣的狀態。"
   ]
  },
  {
   "cell_type": "markdown",
   "metadata": {},
   "source": [
    "#### 將 GPIO 啟動，可以用 sysfs 控制\n",
    "echo 4 > /sys/class/gpio/export\n",
    "#### 設定 GPIO4 為輸出\n",
    "echo out > /sys/class/gpio/gpio4/direction\n",
    "#### 設定 GPIO4 輸出值為 1 (0：低電位，1：高電位)\n",
    "echo 1 > /sys/class/gpio/gpio4/value\n",
    "#### 設定 GPIO4 輸出值為 0 (0：低電位，1：高電位)\n",
    "echo 0 > /sys/class/gpio/gpio4/value\n",
    "#### 將 GPIO4 卸載，不用 sysfs 控制\n",
    "echo 4 > /sys/class/gpio/unexport\n",
    "\n",
    "#### 設定 GPIO4 輸出值為 1 (0：低電位，1：高電位)\n",
    "echo 1 > /sys/class/gpio/gpio4/value\n",
    "\n",
    "此時系統會報錯 \"No such file or directory\""
   ]
  },
  {
   "cell_type": "markdown",
   "metadata": {},
   "source": [
    "![HW13](https://github.com/pofuchen/1st-AIOT-Marathon/blob/master/homework/img/HW13.jpg?raw=true)"
   ]
  },
  {
   "cell_type": "markdown",
   "metadata": {},
   "source": [
    "## 作業2：使用 raspi-config 啟動 i2c，觀察 gpio2 以及 gpio3 的變化，透過 /sys/kernel/debug/gpio 觀察改變的情形，嘗試重新做一次作業1，針對 gpio2 以及 gpio3 操作，觀察在 i2c 啟動的狀態下，gpio2 以及 gpio3 相對 gpio4 有何不同。"
   ]
  },
  {
   "cell_type": "markdown",
   "metadata": {},
   "source": [
    "透過Raspi-config打開I2C, 仿照作業1操作GPIO2 & GPIO3 並未發現與作業1的GPIO4有什麼不同"
   ]
  },
  {
   "cell_type": "markdown",
   "metadata": {},
   "source": [
    "![HW13-1](https://github.com/pofuchen/1st-AIOT-Marathon/blob/master/homework/img/HW13-1.jpg?raw=true)"
   ]
  },
  {
   "cell_type": "markdown",
   "metadata": {},
   "source": [
    "![HW13-2](https://github.com/pofuchen/1st-AIOT-Marathon/blob/master/homework/img/HW13-2.jpg?raw=true)"
   ]
  },
  {
   "cell_type": "markdown",
   "metadata": {},
   "source": [
    "### 作業3：使用 raspi-config 啟動 spi，觀察 gpio 各接腳的變化狀態，嘗試將 spi 關閉之後，透過 /sys/kernel/debug/gpio，觀察可以使用 gpio 數量的變化情形 。"
   ]
  },
  {
   "cell_type": "markdown",
   "metadata": {},
   "source": [
    "開啟SPI後, 發現GPIO 7/8 已經被占用"
   ]
  },
  {
   "cell_type": "markdown",
   "metadata": {},
   "source": [
    "![HW13-3](https://github.com/pofuchen/1st-AIOT-Marathon/blob/master/homework/img/HW13-3.jpg?raw=true)"
   ]
  },
  {
   "cell_type": "markdown",
   "metadata": {},
   "source": [
    "![HW13-5](https://github.com/pofuchen/1st-AIOT-Marathon/blob/master/homework/img/HW13-5.jpg?raw=true)"
   ]
  },
  {
   "cell_type": "markdown",
   "metadata": {},
   "source": [
    "關閉SPI後, GPIO7/8  release"
   ]
  },
  {
   "cell_type": "markdown",
   "metadata": {},
   "source": [
    "![HW13-4](https://github.com/pofuchen/1st-AIOT-Marathon/blob/master/homework/img/HW13-4.jpg?raw=true)"
   ]
  },
  {
   "cell_type": "markdown",
   "metadata": {},
   "source": [
    "![HW13-6](https://github.com/pofuchen/1st-AIOT-Marathon/blob/master/homework/img/HW13-6.jpg?raw=true)"
   ]
  },
  {
   "cell_type": "code",
   "execution_count": null,
   "metadata": {},
   "outputs": [],
   "source": []
  }
 ],
 "metadata": {
  "kernelspec": {
   "display_name": "Python 3",
   "language": "python",
   "name": "python3"
  },
  "language_info": {
   "codemirror_mode": {
    "name": "ipython",
    "version": 3
   },
   "file_extension": ".py",
   "mimetype": "text/x-python",
   "name": "python",
   "nbconvert_exporter": "python",
   "pygments_lexer": "ipython3",
   "version": "3.7.4"
  }
 },
 "nbformat": 4,
 "nbformat_minor": 2
}
