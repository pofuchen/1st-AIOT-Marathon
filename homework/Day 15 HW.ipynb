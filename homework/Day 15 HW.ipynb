{
 "cells": [
  {
   "cell_type": "markdown",
   "metadata": {},
   "source": [
    "作業1：執行 lsusb -v 指令，觀察系統顯示的 usb 裝置，透過 grep “14 Video” 指令篩選顯示的結果，了解 webcam 裝置在系統層次支援的狀態"
   ]
  },
  {
   "cell_type": "markdown",
   "metadata": {},
   "source": [
    "![HW15](https://github.com/pofuchen/1st-AIOT-Marathon/blob/master/homework/img/HW15.jpg?raw=true)"
   ]
  },
  {
   "cell_type": "markdown",
   "metadata": {},
   "source": [
    "![HW15-1](https://github.com/pofuchen/1st-AIOT-Marathon/blob/master/homework/img/HW15-1.jpg?raw=true)"
   ]
  },
  {
   "cell_type": "markdown",
   "metadata": {},
   "source": [
    "![HW15-2](https://github.com/pofuchen/1st-AIOT-Marathon/blob/master/homework/img/HW15-2.jpg?raw=true)"
   ]
  },
  {
   "cell_type": "markdown",
   "metadata": {},
   "source": [
    "作業2：安裝 fswebcam，執行 fswebcam 拍一張照片，確定 webcam 動作正常，並且透過更改參數與設定參數檔案的方式，執行 fswebcam，確定可以產生隨時間依序儲存的檔案。"
   ]
  },
  {
   "cell_type": "markdown",
   "metadata": {},
   "source": [
    "![HW15-5](https://github.com/pofuchen/1st-AIOT-Marathon/blob/master/homework/img/HW15-5.jpg?raw=true)"
   ]
  },
  {
   "cell_type": "markdown",
   "metadata": {},
   "source": [
    "![HW15-3](https://github.com/pofuchen/1st-AIOT-Marathon/blob/master/homework/img/HW15-3.jpg?raw=true)"
   ]
  },
  {
   "cell_type": "markdown",
   "metadata": {},
   "source": [
    "![HW15-4](https://github.com/pofuchen/1st-AIOT-Marathon/blob/master/homework/img/HW15-4.jpg?raw=true)"
   ]
  },
  {
   "cell_type": "markdown",
   "metadata": {},
   "source": [
    "作業3：透過 python 呼叫 fswebcam，觀察 python 呼叫 fswebcam 執行外部參數的方式，並且練習更改 fswebcam 的參數檔案，不更動 python 程式碼的方式，儲存各種類型的拍照結果。"
   ]
  },
  {
   "cell_type": "code",
   "execution_count": null,
   "metadata": {},
   "outputs": [],
   "source": [
    "#1 use python to get image\n",
    "import time\n",
    "import os\n",
    "while True: #do forever\n",
    "    os.system('fswebcam -r 320x240 -S 3 --jpeg 50 --save /home/pi/image/%H%M%S.jpg') #use fswebcam to take picture\n",
    "    time.sleep(15) # this line create a 15 seconds delay before repeating the loop"
   ]
  },
  {
   "cell_type": "markdown",
   "metadata": {},
   "source": [
    "![HW15-6](https://github.com/pofuchen/1st-AIOT-Marathon/blob/master/homework/img/HW15-6.jpg?raw=true)"
   ]
  },
  {
   "cell_type": "markdown",
   "metadata": {},
   "source": [
    "![HW15-7](https://github.com/pofuchen/1st-AIOT-Marathon/blob/master/homework/img/HW15-7.jpg?raw=true)"
   ]
  },
  {
   "cell_type": "code",
   "execution_count": null,
   "metadata": {},
   "outputs": [],
   "source": [
    "#2 change greyscale\n",
    "import time\n",
    "import os\n",
    "while True: #do forever\n",
    "    os.system('fswebcam -r 320x240 -S 3 --greyscale --jpeg 50 --save /home/pi/image/%H%M%S.jpg') #use fswebcam to take picture\n",
    "    time.sleep(15) # this line create a 15 seconds delay before repeating the loop"
   ]
  },
  {
   "cell_type": "markdown",
   "metadata": {},
   "source": [
    "![HW15-8](https://github.com/pofuchen/1st-AIOT-Marathon/blob/master/homework/img/HW15-8.jpg?raw=true)"
   ]
  },
  {
   "cell_type": "markdown",
   "metadata": {},
   "source": [
    "![HW15-9](https://github.com/pofuchen/1st-AIOT-Marathon/blob/master/homework/img/HW15-9.jpg?raw=true)"
   ]
  },
  {
   "cell_type": "code",
   "execution_count": null,
   "metadata": {},
   "outputs": [],
   "source": [
    "#3 add title'AIOT-Demo'\n",
    "import time\n",
    "import os\n",
    "while True: #do forever\n",
    "    os.system('fswebcam -r 320x240 -S 3 --greyscale --jpeg 50 --title “AIOT-Demo“ --save /home/pi/image/%H%M%S.jpg') #use fswebcam to take picture\n",
    "    time.sleep(15) # this line create a 15 seconds delay before repeating the loop"
   ]
  },
  {
   "cell_type": "markdown",
   "metadata": {},
   "source": [
    "![HW15-10](https://github.com/pofuchen/1st-AIOT-Marathon/blob/master/homework/img/HW15-10.jpg?raw=true)"
   ]
  },
  {
   "cell_type": "markdown",
   "metadata": {},
   "source": [
    "![HW15-11](https://github.com/pofuchen/1st-AIOT-Marathon/blob/master/homework/img/HW15-11.jpg?raw=true)"
   ]
  },
  {
   "cell_type": "code",
   "execution_count": null,
   "metadata": {},
   "outputs": [],
   "source": []
  }
 ],
 "metadata": {
  "kernelspec": {
   "display_name": "Python 3",
   "language": "python",
   "name": "python3"
  },
  "language_info": {
   "codemirror_mode": {
    "name": "ipython",
    "version": 3
   },
   "file_extension": ".py",
   "mimetype": "text/x-python",
   "name": "python",
   "nbconvert_exporter": "python",
   "pygments_lexer": "ipython3",
   "version": "3.7.4"
  }
 },
 "nbformat": 4,
 "nbformat_minor": 2
}
