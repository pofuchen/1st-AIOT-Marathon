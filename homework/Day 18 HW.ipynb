{
 "cells": [
  {
   "cell_type": "markdown",
   "metadata": {},
   "source": [
    "# 作業：使用 Flask 操作 Mongo"
   ]
  },
  {
   "cell_type": "markdown",
   "metadata": {},
   "source": [
    "# [作業目標]\n",
    "* 能夠使用 python 操作 mongodb 的增刪改查。\n",
    "* API 設計上能符合 Restful 風格。"
   ]
  },
  {
   "cell_type": "markdown",
   "metadata": {},
   "source": [
    "# [作業重點]\n",
    "* 能使用正確的 Http Method 去接收 Request。\n",
    "* 實作之前，Mongo Server 要記得開啟。\n",
    "* 若 DB 和 Collection 原本不存在，請先用 Robo3T 手動建立。"
   ]
  },
  {
   "cell_type": "markdown",
   "metadata": {},
   "source": [
    "# [本作業你可能需要使用的 packages]\n",
    "* from pymongo import MongoClient\n",
    "* from flask import Flask, request\n",
    "* from bson.objectid import ObjectId"
   ]
  },
  {
   "cell_type": "markdown",
   "metadata": {},
   "source": [
    "# 作業 1\n",
    "* 使用 Post，傳入參數 name, age, email 參數，並把資料存入 Member Collection。"
   ]
  },
  {
   "cell_type": "code",
   "execution_count": null,
   "metadata": {},
   "outputs": [],
   "source": [
    "from flask import Flask, request, jsonify\n",
    "from flask_pymongo import PyMongo\n",
    "from bson.objectid import ObjectId\n",
    "\n",
    "app = Flask(__name__)\n",
    "app.config[\"MONGO_URI\"] = \"mongodb://localhost:27017/Homework\" # 資料庫的address\n",
    "mongo = PyMongo(app)\n",
    "\n",
    "@app.route('/members')\n",
    "\n",
    "#新增會員  \n",
    "@app.route('/members', methods = ['POST'])\n",
    "def add_member():\n",
    "    # 把 form 裡面的資料拿出來\n",
    "    name = request.form.get('name')\n",
    "    age = request.form.get('age')\n",
    "    email = request.form.get('email')\n",
    "    \n",
    "    # 執行 insert_one 新增一筆資料\n",
    "    result = mongo.db.number.insert_one({'name': name, 'age': age, 'email': email})\n",
    "    \n",
    "    # 回傳新增資料的 id\n",
    "    return str(result.inserted_id)\n",
    "\n",
    "if __name__ == '__main__':\n",
    "    app.run()"
   ]
  },
  {
   "cell_type": "markdown",
   "metadata": {},
   "source": [
    "![HW18](https://github.com/pofuchen/1st-AIOT-Marathon/blob/master/homework/img/HW18.jpg?raw=true)"
   ]
  },
  {
   "cell_type": "markdown",
   "metadata": {},
   "source": [
    "![HW18-1](https://github.com/pofuchen/1st-AIOT-Marathon/blob/master/homework/img/HW18-1.jpg?raw=true)"
   ]
  },
  {
   "cell_type": "markdown",
   "metadata": {},
   "source": [
    "# 作業 2\n",
    "* 使用 Get，取得所有的資料。\n",
    "* 使用 Get，帶入要取得的資料 id 參數，並成功從 Mongo 中取得某一筆特定資料。"
   ]
  },
  {
   "cell_type": "code",
   "execution_count": null,
   "metadata": {},
   "outputs": [],
   "source": [
    "from flask import Flask, request, jsonify\n",
    "from flask_pymongo import PyMongo\n",
    "from bson.objectid import ObjectId\n",
    "\n",
    "app = Flask(__name__)\n",
    "app.config[\"MONGO_URI\"] = \"mongodb://localhost:27017/Homework\" # 資料庫的address\n",
    "mongo = PyMongo(app)\n",
    "\n",
    "@app.route('/members')\n",
    "\n",
    "#取得會員\n",
    "@app.route('/members/<id>', methods = ['GET'])\n",
    "\n",
    "def get_member(id=None):\n",
    "    # 若沒有傳入 id，及取得所有會員資料\n",
    "    if id is None:\n",
    "        members = mongo.db.number.find({})\n",
    "        result = [] # 宣告一個陣列，回傳結果時需要用到\n",
    "        \n",
    "        for number in members:\n",
    "            number['_id'] = str(number['_id']) # mongo 回傳的 id 為 ObjectId 型別，把 id 轉成一般的字串\n",
    "            result.append(number)\n",
    "        return jsonify(result) # 把我們的結果轉換為 json 並回傳\n",
    "    else:\n",
    "        result = mongo.db.number.find_one({'_id': ObjectId(id)})\n",
    "        if result is not None:\n",
    "            result['_id'] = str(result['_id']) # mongo 回傳的 id 為 ObjectId 型別，把 id 轉成一般的字串\n",
    "        \n",
    "        return jsonify(result) # 把我們的結果轉換為 json 並回傳\n",
    "    \n",
    "if __name__ == '__main__':\n",
    "    app.run()"
   ]
  },
  {
   "cell_type": "markdown",
   "metadata": {},
   "source": [
    "![HW18-2](https://github.com/pofuchen/1st-AIOT-Marathon/blob/master/homework/img/HW18-2.jpg?raw=true)"
   ]
  },
  {
   "cell_type": "markdown",
   "metadata": {},
   "source": [
    "![HW18-3](https://github.com/pofuchen/1st-AIOT-Marathon/blob/master/homework/img/HW18-3.jpg?raw=true)"
   ]
  },
  {
   "cell_type": "markdown",
   "metadata": {},
   "source": [
    "# 作業 3\n",
    "* 使用 PUT，帶入要更新的資料id，並傳入 name, age, email 參數，並修改 Mongo 中某一筆資料的值。"
   ]
  },
  {
   "cell_type": "code",
   "execution_count": null,
   "metadata": {},
   "outputs": [],
   "source": [
    "from flask import Flask, request, jsonify\n",
    "from flask_pymongo import PyMongo\n",
    "from bson.objectid import ObjectId\n",
    "\n",
    "app = Flask(__name__)\n",
    "app.config[\"MONGO_URI\"] = \"mongodb://localhost:27017/Homework\" # 資料庫的address\n",
    "mongo = PyMongo(app)\n",
    "\n",
    "@app.route('/members')\n",
    "\n",
    "#修改會員\n",
    "@app.route('/members/<id>', methods = ['PUT'])\n",
    "def update_member(id): \n",
    "    result = 0\n",
    "    \n",
    "    # 把 form 裡面的資料拿出來\n",
    "    name = request.form.get('name')\n",
    "    age = request.form.get('age')\n",
    "    email = request.form.get('email')\n",
    "    \n",
    "    # 把新的資料用 dict 型別包裝\n",
    "    new_value = { \"$set\": { \"name\": name, \"age\": age, \"email\": email } }\n",
    "    # 執行 update_one 進行修改\n",
    "    upd_result = mongo.db.number.update_one({\"_id\": ObjectId(id)}, new_value) \n",
    "    \n",
    "    if upd_result is not None:\n",
    "        result = upd_result.modified_count\n",
    "    \n",
    "    # 回傳更新的資料筆數\n",
    "    return \"Update %s data\" % str(result)\n",
    "\n",
    "        \n",
    "if __name__ == '__main__':\n",
    "    app.run()"
   ]
  },
  {
   "cell_type": "markdown",
   "metadata": {},
   "source": [
    "![HW18-4](https://github.com/pofuchen/1st-AIOT-Marathon/blob/master/homework/img/HW18-4.jpg?raw=true)"
   ]
  },
  {
   "cell_type": "markdown",
   "metadata": {},
   "source": [
    "![HW18-5](https://github.com/pofuchen/1st-AIOT-Marathon/blob/master/homework/img/HW18-5.jpg?raw=true)"
   ]
  },
  {
   "cell_type": "markdown",
   "metadata": {},
   "source": [
    "# 作業 4\n",
    "* 使用 DELETE，帶入要刪除的資料 id，並刪除 Mongo 中某一筆資料。"
   ]
  },
  {
   "cell_type": "code",
   "execution_count": null,
   "metadata": {},
   "outputs": [
    {
     "name": "stdout",
     "output_type": "stream",
     "text": [
      " * Serving Flask app \"__main__\" (lazy loading)\n",
      " * Environment: production\n",
      "   WARNING: This is a development server. Do not use it in a production deployment.\n",
      "   Use a production WSGI server instead.\n",
      " * Debug mode: off\n"
     ]
    },
    {
     "name": "stderr",
     "output_type": "stream",
     "text": [
      " * Running on http://127.0.0.1:5000/ (Press CTRL+C to quit)\n",
      "127.0.0.1 - - [23/Feb/2021 22:35:44] \"\u001b[37mDELETE /members/60350e90d4d9b3e14d6146e0 HTTP/1.1\u001b[0m\" 200 -\n"
     ]
    }
   ],
   "source": [
    "from flask import Flask, request, jsonify\n",
    "from flask_pymongo import PyMongo\n",
    "from bson.objectid import ObjectId\n",
    "\n",
    "app = Flask(__name__)\n",
    "app.config[\"MONGO_URI\"] = \"mongodb://localhost:27017/Homework\" # 資料庫的address\n",
    "mongo = PyMongo(app)\n",
    "\n",
    "@app.route('/members')\n",
    "\n",
    "#刪除會員\n",
    "@app.route('/members/<id>', methods = ['DELETE'])\n",
    "def remove_member(id):\n",
    "    result = 0\n",
    "    \n",
    "    # 先確定是否有該會員\n",
    "    member = mongo.db.number.find_one({'_id': ObjectId(id)})\n",
    "    \n",
    "    # 若會員存在，執行 delete_one 刪除該會員\n",
    "    if member is not None:\n",
    "        del_result = mongo.db.number.delete_one(member)\n",
    "        result = del_result.deleted_count\n",
    "        \n",
    "    # 回傳刪除的資料筆數\n",
    "    return \"Delete %s data\" % str(result) \n",
    "\n",
    "if __name__ == '__main__':\n",
    "    app.run()"
   ]
  },
  {
   "cell_type": "markdown",
   "metadata": {},
   "source": [
    "![HW18-6](https://github.com/pofuchen/1st-AIOT-Marathon/blob/master/homework/img/HW18-6.jpg?raw=true)"
   ]
  },
  {
   "cell_type": "markdown",
   "metadata": {},
   "source": [
    "![HW18-7](https://github.com/pofuchen/1st-AIOT-Marathon/blob/master/homework/img/HW18-7.jpg?raw=true)"
   ]
  },
  {
   "cell_type": "code",
   "execution_count": null,
   "metadata": {},
   "outputs": [],
   "source": []
  }
 ],
 "metadata": {
  "kernelspec": {
   "display_name": "Python 3",
   "language": "python",
   "name": "python3"
  },
  "language_info": {
   "codemirror_mode": {
    "name": "ipython",
    "version": 3
   },
   "file_extension": ".py",
   "mimetype": "text/x-python",
   "name": "python",
   "nbconvert_exporter": "python",
   "pygments_lexer": "ipython3",
   "version": "3.7.4"
  }
 },
 "nbformat": 4,
 "nbformat_minor": 4
}
