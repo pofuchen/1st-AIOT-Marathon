{
 "cells": [
  {
   "cell_type": "markdown",
   "metadata": {
    "id": "p0fSCEWKPVVF"
   },
   "source": [
    "作業1：練習將 DHT22 接於 GPIO 27 接腳，並且更改軟體的接腳設定值，重新執行範例程式，驗證在不同的接腳上安裝 DHT22，程式一樣可以正確地讀出數值。"
   ]
  },
  {
   "cell_type": "code",
   "execution_count": null,
   "metadata": {},
   "outputs": [],
   "source": [
    "import Adafruit_DHT             \n",
    "DHT_SENSOR = Adafruit_DHT.DHT22\n",
    "# DHT_PIN = 27 \n",
    "DHT_PIN = 17 #接腳由 GPIO22改為 GPIO 17\n",
    "\n",
    "while True:\n",
    "    humidity, temperature = Adafruit_DHT.read_retry(DHT_SENSOR, DHT_PIN)\n",
    "    if humidity is not None and temperature is not None:\n",
    "        print(\"Temp={0:0.1f}*C  Humidity={1:0.1f}%\".format(temperature, humidity))\n",
    "    else:\n",
    "        print(\"Failed to retrieve data from humidity sensor\")"
   ]
  },
  {
   "cell_type": "markdown",
   "metadata": {
    "id": "K-vsXsuOWNie"
   },
   "source": [
    "作業2：觀察 RPi.GPIO 的程式碼，與 GPIOZero 程式碼對於繼電器控制上寫法的不同，如果我們要設定 GPIO 26, 19, 13, 6 四個接腳控制一個四路繼電器，練習實作一個 GPIOZero 四路繼電器的控制程式。"
   ]
  },
  {
   "cell_type": "code",
   "execution_count": null,
   "metadata": {
    "id": "Uw8j3Njycwnt"
   },
   "outputs": [],
   "source": [
    "#PRi.GPIO 程式碼\n",
    "import RPi.GPIO as GPIO\n",
    "from time import sleep\n",
    "\n",
    "relay_pin = 26\n",
    "\n",
    "GPIO.setmode(GPIO.BCM)\n",
    "GPIO.setup(relay_pin, GPIO.OUT)\n",
    "GPIO.output(relay_pin, 1)\n",
    "try:\n",
    "    while True:\n",
    "        GPIO.output(relay_pin, 0)\n",
    "        sleep(5)\n",
    "        GPIO.output(relay_pin, 1)\n",
    "        sleep(5)\n",
    "except KeyboardInterrupt:\n",
    "    pass\n",
    "GPIO.cleanup()\n"
   ]
  },
  {
   "cell_type": "code",
   "execution_count": null,
   "metadata": {
    "id": "Ts752K7W65zY"
   },
   "outputs": [],
   "source": [
    "#GPIOZero 程式碼\n",
    "import gpiozero\n",
    "\n",
    "RELAY_PIN = 26\n",
    "relay = gpiozero.OutputDevice(RELAY_PIN, active_high=False, initial_value=True)\n",
    "try:\n",
    "    while True:\n",
    "      relay.off()\n",
    "      sleep(5)\n",
    "      relay.on()\n",
    "      sleep(5)\n",
    "except KeyboardInterrupt:\n",
    "    print(“\\n程式結束執行\\n\")\n",
    "    # 跳出程式，程式執行結束\n",
    "    sys.exit(0)"
   ]
  },
  {
   "cell_type": "code",
   "execution_count": null,
   "metadata": {
    "id": "MTZQHdYvFx6F"
   },
   "outputs": [],
   "source": [
    "import gpiozero\n",
    "\n",
    "#使用GPIO 26,19,13,6連接4個繼電器\n",
    "RELAY_PIN1 = 26\n",
    "RELAY_PIN2 = 19\n",
    "RELAY_PIN3 = 13\n",
    "RELAY_PIN4 = 6\n",
    "\n",
    "relay1 = gpiozero.OutputDevice(RELAY_PIN1, active_high=False, initial_value=True)\n",
    "relay2 = gpiozero.OutputDevice(RELAY_PIN2, active_high=False, initial_value=True)\n",
    "relay3 = gpiozero.OutputDevice(RELAY_PIN3, active_high=False, initial_value=True)\n",
    "relay4 = gpiozero.OutputDevice(RELAY_PIN4, active_high=False, initial_value=True)\n",
    "try:\n",
    "    while True:\n",
    "      relay1.off()\n",
    "      relay2.off()\n",
    "      relay3.off()\n",
    "      relay4.off()\n",
    "      sleep(5)\n",
    "      relay1.on()\n",
    "      relay2.on()\n",
    "      relay3.on()\n",
    "      relay4.on()\n",
    "      sleep(5)\n",
    "except KeyboardInterrupt:\n",
    "    print(“\\n程式結束執行\\n\")\n",
    "    # 跳出程式，程式執行結束\n",
    "    sys.exit(0)"
   ]
  },
  {
   "cell_type": "markdown",
   "metadata": {
    "id": "WMOX8Aqcd44H"
   },
   "source": [
    "作業3：將作業 1 與作業 2 結合，設定程式在溫度 10 度以下，打開 GPIO26，溫度 10 度以上到 20 度之間，控制 GPIO19，溫度 20 度到 30 度之間，控制 GPIO13，溫度在 30 度以上，控制 GPIO6，達成在不同的溫度區間時，控制不同的繼電器的需求。"
   ]
  },
  {
   "cell_type": "code",
   "execution_count": null,
   "metadata": {
    "id": "171_37Kzxx-U"
   },
   "outputs": [],
   "source": [
    "import gpiozero\n",
    "import Adafruit_DHT             # 匯入Adafruit_DHT模組\n",
    "RELAY_PIN1 = 26\n",
    "RELAY_PIN2 = 19\n",
    "RELAY_PIN3 = 13\n",
    "RELAY_PIN4 = 6\n",
    "relay1 = gpiozero.OutputDevice(RELAY_PIN1, active_high=True, initial_value=False)\n",
    "relay2 = gpiozero.OutputDevice(RELAY_PIN2, active_high=True, initial_value=False)\n",
    "relay3 = gpiozero.OutputDevice(RELAY_PIN3, active_high=True, initial_value=False)\n",
    "relay4 = gpiozero.OutputDevice(RELAY_PIN4, active_high=True, initial_value=False)\n",
    "\n",
    "DHT_SENSOR = Adafruit_DHT.DHT22 # 感測器為DHT22\n",
    "DHT_PIN = 27          # 設定DHT22 Data接線的接腳位置\n",
    "try:\n",
    "    while True:\n",
    "      humidity, temperature = Adafruit_DHT.read_retry(DHT_SENSOR, DHT_PIN)\n",
    "      if humidity is not None and temperature is not None:\n",
    "          print(\"Temp={0:0.1f}*C  Humidity={1:0.1f}%\".format(temperature, humidity))\n",
    "          if (temperature<=10):\n",
    "            relay1.on()\n",
    "            relay2.off()\n",
    "            relay3.off()\n",
    "            relay4.off()\n",
    "          if (temperature>10 and temperature<=20):\n",
    "            relay1.off()\n",
    "            relay2.on()\n",
    "            relay3.off()\n",
    "            relay4.off()\n",
    "          if (temperature>20 and temperature<=30):\n",
    "            relay1.off()\n",
    "            relay2.off()\n",
    "            relay3.on()\n",
    "            relay4.off()\n",
    "          if (temperature>30):\n",
    "            relay1.off()\n",
    "            relay2.off()\n",
    "            relay3.off()\n",
    "            relay4.on()\n",
    "      else:\n",
    "          print(\"Failed to retrieve data from humidity sensor\")\n",
    "except KeyboardInterrupt:\n",
    "    print(“\\n程式結束執行\\n\")\n",
    "    sys.exit(0)"
   ]
  }
 ],
 "metadata": {
  "colab": {
   "collapsed_sections": [],
   "name": "AIOT_Day017_DHT22感測器讀取與繼電器控制_範例程式碼.ipynb",
   "provenance": []
  },
  "kernelspec": {
   "display_name": "Python 3",
   "language": "python",
   "name": "python3"
  },
  "language_info": {
   "codemirror_mode": {
    "name": "ipython",
    "version": 3
   },
   "file_extension": ".py",
   "mimetype": "text/x-python",
   "name": "python",
   "nbconvert_exporter": "python",
   "pygments_lexer": "ipython3",
   "version": "3.7.4"
  }
 },
 "nbformat": 4,
 "nbformat_minor": 1
}
