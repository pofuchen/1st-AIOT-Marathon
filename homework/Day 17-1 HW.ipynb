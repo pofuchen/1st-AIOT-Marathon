{
 "cells": [
  {
   "cell_type": "markdown",
   "metadata": {},
   "source": [
    "## 1. 撰寫一個 Flask Web 應用程式，分別使用 Get / Post 來發送 Request，且能取得 Request 傳遞的參數。"
   ]
  },
  {
   "cell_type": "code",
   "execution_count": null,
   "metadata": {},
   "outputs": [],
   "source": [
    "from flask import Flask, request\n",
    "app = Flask(__name__)\n",
    "\n",
    "@app.route('/', methods=['GET'])\n",
    "def index():\n",
    "    name = request.args.get('name') # 取得 name 參數\n",
    "    return \"Hello \" + name\n",
    "    \n",
    "\n",
    "if __name__ == '__main__':\n",
    "    app.run()"
   ]
  },
  {
   "cell_type": "markdown",
   "metadata": {},
   "source": [
    "![HW17_1-1](https://github.com/pofuchen/1st-AIOT-Marathon/blob/master/homework/img/HW17_1-1.jpg?raw=true)"
   ]
  },
  {
   "cell_type": "code",
   "execution_count": null,
   "metadata": {},
   "outputs": [],
   "source": [
    "# 引用需要的套件, 若有多個套件要引用，可使用逗號隔開\n",
    "from flask import Flask, request\n",
    "app = Flask(__name__)\n",
    "\n",
    "# 設定網址路由，及接受的 method(預設是 GET)\n",
    "@app.route('/', methods=['POST'])\n",
    "def index():\n",
    "    file = request.files['file'] # 取得 request 中的 file(記得發送 postman 中的 檔案參數名稱要和這邊一致)\n",
    "    file.save(file.filename) # 把檔案存起來，並用原來的檔名作為名稱\n",
    "    return file.filename # 回傳檔案名稱\n",
    "    \n",
    "\n",
    "if __name__ == '__main__':\n",
    "    app.run()"
   ]
  },
  {
   "cell_type": "markdown",
   "metadata": {},
   "source": [
    "![HW17_1-2](https://github.com/pofuchen/1st-AIOT-Marathon/blob/master/homework/img/HW17_1-2.jpg?raw=true)"
   ]
  },
  {
   "cell_type": "markdown",
   "metadata": {},
   "source": [
    "## 2.  實作檔案上傳功能，並提供簡易畫面使其能透過畫面上傳檔案"
   ]
  },
  {
   "cell_type": "code",
   "execution_count": null,
   "metadata": {},
   "outputs": [],
   "source": [
    "#Python\n",
    "\n",
    "from flask import Flask, render_template,request\n",
    "\n",
    "app = Flask(__name__)\n",
    "\n",
    "# 設定網址路由，及接受的 method\n",
    "  \n",
    "@app.route('/')\n",
    "def main():\n",
    "    return render_template('upload.html')\n",
    "    \n",
    "@app.route('/upload', methods=['POST'])\n",
    "def index():\n",
    "    file = request.files['file'] # 取得 request 中的 file(記得發送 postman 中的 檔案參數名稱要和這邊一致)\n",
    "    file.save(file.filename)  # 把檔案存起來，並用原來的檔名作為名稱\n",
    "    return file.filename\n",
    "if __name__ == '__main__':\n",
    "    app.run()"
   ]
  },
  {
   "cell_type": "code",
   "execution_count": null,
   "metadata": {},
   "outputs": [],
   "source": [
    "#HTML\n",
    "\n",
    "<!DOCTYPE html>\n",
    "<html>\n",
    "    <head>\n",
    "        <meta http-equiv=\"Content-Type\" content=\"text/html; charset=utf-8\" />\n",
    "        <title>Flask檔案上傳</title>\n",
    "    </head>\n",
    "    <body>\n",
    "\n",
    "        <form action = \"/upload\" method = \"POST\" \n",
    "         enctype = \"multipart/form-data\">\n",
    "            <input type = \"file\" name = \"file\" />\n",
    "            <input type = \"submit\" value=\"提交\"/>\n",
    "        </form>\n",
    "\n",
    "    </body>\n",
    "</html>"
   ]
  },
  {
   "cell_type": "markdown",
   "metadata": {},
   "source": [
    "![HW17_1-3](https://github.com/pofuchen/1st-AIOT-Marathon/blob/master/homework/img/HW17_1-3.jpg?raw=true)"
   ]
  },
  {
   "cell_type": "code",
   "execution_count": null,
   "metadata": {},
   "outputs": [],
   "source": []
  }
 ],
 "metadata": {
  "kernelspec": {
   "display_name": "Python 3",
   "language": "python",
   "name": "python3"
  },
  "language_info": {
   "codemirror_mode": {
    "name": "ipython",
    "version": 3
   },
   "file_extension": ".py",
   "mimetype": "text/x-python",
   "name": "python",
   "nbconvert_exporter": "python",
   "pygments_lexer": "ipython3",
   "version": "3.7.4"
  }
 },
 "nbformat": 4,
 "nbformat_minor": 2
}
